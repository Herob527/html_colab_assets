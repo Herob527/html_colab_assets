{
  "nbformat": 4,
  "nbformat_minor": 0,
  "metadata": {
    "colab": {
      "name": "Test HTML.ipynb",
      "provenance": [],
      "collapsed_sections": [],
      "authorship_tag": "ABX9TyNk+8Lb3CUgyaBm7uz0dftS",
      "include_colab_link": true
    },
    "kernelspec": {
      "name": "python3",
      "display_name": "Python 3"
    },
    "language_info": {
      "name": "python"
    }
  },
  "cells": [
    {
      "cell_type": "markdown",
      "metadata": {
        "id": "view-in-github",
        "colab_type": "text"
      },
      "source": [
        "<a href=\"https://colab.research.google.com/github/Herob527/html_colab_assets/blob/main/Test_HTML.ipynb\" target=\"_parent\"><img src=\"https://colab.research.google.com/assets/colab-badge.svg\" alt=\"Open In Colab\"/></a>"
      ]
    },
    {
      "cell_type": "code",
      "source": [
        "%%sh\n",
        "pip install flask_cors"
      ],
      "metadata": {
        "colab": {
          "base_uri": "https://localhost:8080/"
        },
        "id": "gRJZkiczOiVG",
        "outputId": "f208b2e4-5629-4f92-ce92-59af06dd5249"
      },
      "execution_count": null,
      "outputs": [
        {
          "output_type": "stream",
          "name": "stdout",
          "text": [
            "Requirement already satisfied: flask_cors in /usr/local/lib/python3.7/dist-packages (3.0.10)\n",
            "Requirement already satisfied: Six in /usr/local/lib/python3.7/dist-packages (from flask_cors) (1.15.0)\n",
            "Requirement already satisfied: Flask>=0.9 in /usr/local/lib/python3.7/dist-packages (from flask_cors) (1.1.4)\n",
            "Requirement already satisfied: click<8.0,>=5.1 in /usr/local/lib/python3.7/dist-packages (from Flask>=0.9->flask_cors) (7.1.2)\n",
            "Requirement already satisfied: Jinja2<3.0,>=2.10.1 in /usr/local/lib/python3.7/dist-packages (from Flask>=0.9->flask_cors) (2.11.3)\n",
            "Requirement already satisfied: Werkzeug<2.0,>=0.15 in /usr/local/lib/python3.7/dist-packages (from Flask>=0.9->flask_cors) (1.0.1)\n",
            "Requirement already satisfied: itsdangerous<2.0,>=0.24 in /usr/local/lib/python3.7/dist-packages (from Flask>=0.9->flask_cors) (1.1.0)\n",
            "Requirement already satisfied: MarkupSafe>=0.23 in /usr/local/lib/python3.7/dist-packages (from Jinja2<3.0,>=2.10.1->Flask>=0.9->flask_cors) (2.0.1)\n"
          ]
        }
      ]
    },
    {
      "cell_type": "code",
      "execution_count": null,
      "metadata": {
        "colab": {
          "base_uri": "https://localhost:8080/",
          "height": 36
        },
        "id": "uADRlw7ZNu2K",
        "outputId": "1689b7ea-3f82-46f9-a51d-80af11e61be9"
      },
      "outputs": [
        {
          "output_type": "display_data",
          "data": {
            "text/html": [
              "<select>\n",
              "    <option>Herobino</option>\n",
              "    <option>Laving</option>\n",
              "</select>"
            ],
            "text/plain": [
              "<IPython.core.display.HTML object>"
            ]
          },
          "metadata": {}
        }
      ],
      "source": [
        "%%html\n",
        "<select>\n",
        "    <option>Herobino</option>\n",
        "    <option>Laving</option>\n",
        "</select>"
      ]
    },
    {
      "cell_type": "code",
      "source": [
        "from google.colab import drive\n",
        "\n",
        "drive._mount('drive', force_remount=True)"
      ],
      "metadata": {
        "colab": {
          "base_uri": "https://localhost:8080/"
        },
        "id": "mMLxEasZOrVn",
        "outputId": "42a53891-2d3e-4d21-babf-0e19b93390aa"
      },
      "execution_count": 1,
      "outputs": [
        {
          "output_type": "stream",
          "name": "stdout",
          "text": [
            "Mounted at drive\n"
          ]
        }
      ]
    },
    {
      "cell_type": "code",
      "source": [
        "%%sh\n",
        "git clone 'https://github.com/Herob527/html_colab_assets' -q"
      ],
      "metadata": {
        "id": "aC96ILQxTfwR"
      },
      "execution_count": 2,
      "outputs": []
    },
    {
      "cell_type": "code",
      "source": [
        "import IPython\n",
        "from flask import Flask\n",
        "from pathlib import Path\n",
        "app = Flask(\"__main__\")\n",
        "\n",
        "@app.route('/test',methods=[\"GET\"])\n",
        "def test():\n",
        "    return {\"text\":\"Hejo\"}\n",
        "\n",
        "\n",
        "@app.route('/drive_mad',methods=[\"GET\"])\n",
        "def iterate_over_drive():\n",
        "    return {\"dirs\":[i.as_posix() for i in Path('drive/MyDrive/mekatron').iterdir() if i.is_dir()],\n",
        "            \"loose\":[i.as_posix() for i in Path('drive/MyDrive/mekatron').iterdir() if not i.is_dir()]}\n",
        "\n",
        "def main():\n",
        "    style = open(\"./html_colab_assets/style.css\", \"r\").read()\n",
        "    script = open(\"./html_colab_assets/script.js\", \"r\").read()\n",
        "    display(IPython.display.HTML(f'''\n",
        "        <head>\n",
        "            <style>\n",
        "                {style}\n",
        "            </style>\n",
        "        </head>\n",
        "        <div id='container'>\n",
        "            <span class='el'> x </span>\n",
        "            <span class='el'> y </span>\n",
        "        </div>\n",
        "        The items:\n",
        "        <br><ol id=\"items\"></ol>\n",
        "        <button id='button'>Click to add</button>\n",
        "        <script>\n",
        "            {script}\n",
        "        </script>\n",
        "        '''))\n",
        "\n",
        "if __name__  == \"__main__\":\n",
        "    main()\n",
        "    app.run()"
      ],
      "metadata": {
        "colab": {
          "resources": {
            "http://localhost:5000/test": {
              "data": "eyJ0ZXh0IjoiSGVqbyJ9Cg==",
              "ok": true,
              "headers": [
                [
                  "content-type",
                  "application/json"
                ]
              ],
              "status": 200,
              "status_text": ""
            },
            "http://localhost:5000/drive_mad": {
              "data": "eyJkaXJzIjpbImRyaXZlL015RHJpdmUvbWVrYXRyb24vZHVubWVya2EiLCJkcml2ZS9NeURyaXZlL21la2F0cm9uL21pbHRlbl9HMiIsImRyaXZlL015RHJpdmUvbWVrYXRyb24vZWxpc2lmIiwiZHJpdmUvTXlEcml2ZS9tZWthdHJvbi9tb2RpIiwiZHJpdmUvTXlEcml2ZS9tZWthdHJvbi9wcnp5d29kY2Ffd2lvc2tpIiwiZHJpdmUvTXlEcml2ZS9tZWthdHJvbi90aG9yIiwiZHJpdmUvTXlEcml2ZS9tZWthdHJvbi9vbmRvbGVtYXIiLCJkcml2ZS9NeURyaXZlL21la2F0cm9uL3N0YXJ5X2dub20iLCJkcml2ZS9NeURyaXZlL21la2F0cm9uL2R6aW4iLCJkcml2ZS9NeURyaXZlL21la2F0cm9uL21vdGllcnJlIiwiZHJpdmUvTXlEcml2ZS9tZWthdHJvbi9qYXJsX2ZhbGtyZXQiLCJkcml2ZS9NeURyaXZlL21la2F0cm9uL2dhcm9uZCIsImRyaXZlL015RHJpdmUvbWVrYXRyb24vZWxlZ2lhIiwiZHJpdmUvTXlEcml2ZS9tZWthdHJvbi9rdXJpZXIiLCJkcml2ZS9NeURyaXZlL21la2F0cm9uL2JlbGV0aG9yIiwiZHJpdmUvTXlEcml2ZS9tZWthdHJvbi91bGZyaWMiLCJkcml2ZS9NeURyaXZlL21la2F0cm9uL25hbm5hIiwiZHJpdmUvTXlEcml2ZS9tZWthdHJvbi9taW5fbmF1Y3p5Y2llbCIsImRyaXZlL015RHJpdmUvbWVrYXRyb24vZnJleWEiLCJkcml2ZS9NeURyaXZlL21la2F0cm9uL3N0YXJhX29sYWZhIiwiZHJpdmUvTXlEcml2ZS9tZWthdHJvbi9lcnlrX3N0YXJ5IiwiZHJpdmUvTXlEcml2ZS9tZWthdHJvbi9rYXJsaWFoIiwiZHJpdmUvTXlEcml2ZS9tZWthdHJvbi9lbHJpYyIsImRyaXZlL015RHJpdmUvbWVrYXRyb24vZHVubWVyIiwiZHJpdmUvTXlEcml2ZS9tZWthdHJvbi9hc3RyaWQiLCJkcml2ZS9NeURyaXZlL21la2F0cm9uL2RlbHZpbiIsImRyaXZlL015RHJpdmUvbWVrYXRyb24vaXNyYW4iLCJkcml2ZS9NeURyaXZlL21la2F0cm9uL2RlbHBoaW5lIiwiZHJpdmUvTXlEcml2ZS9tZWthdHJvbi9TZXB0aW11cyIsImRyaXZlL015RHJpdmUvbWVrYXRyb24vZHppZWNpYWtfemVfc2t5cmltYSIsImRyaXZlL015RHJpdmUvbWVrYXRyb24va29uc3RhbnRpbm8iLCJkcml2ZS9NeURyaXZlL21la2F0cm9uL2h1Z2luIiwiZHJpdmUvTXlEcml2ZS9tZWthdHJvbi9lbWh5ciIsImRyaXZlL015RHJpdmUvbWVrYXRyb24va2VsZWJyaW1ib3IiLCJkcml2ZS9NeURyaXZlL21la2F0cm9uL2tvd2FsXzIiLCJkcml2ZS9NeURyaXZlL21la2F0cm9uL2phIiwiZHJpdmUvTXlEcml2ZS9tZWthdHJvbi9zemFtYW4iLCJkcml2ZS9NeURyaXZlL21la2F0cm9uL3RvdGVtIiwiZHJpdmUvTXlEcml2ZS9tZWthdHJvbi90dWJ5bGVjIiwiZHJpdmUvTXlEcml2ZS9tZWthdHJvbi9sZWt0b3JfenRtIiwiZHJpdmUvTXlEcml2ZS9tZWthdHJvbi9kemllbm5pa2FyeiIsImRyaXZlL015RHJpdmUvbWVrYXRyb24vYWxmcmVkIiwiZHJpdmUvTXlEcml2ZS9tZWthdHJvbi9sb2tpIl0sImxvb3NlIjpbImRyaXZlL015RHJpdmUvbWVrYXRyb24vdmVybm9uXzIwNTAwLnR0MiIsImRyaXZlL015RHJpdmUvbWVrYXRyb24vYmV6aS50dDIiLCJkcml2ZS9NeURyaXZlL21la2F0cm9uL29nb2xueS53ZyIsImRyaXZlL015RHJpdmUvbWVrYXRyb24vRGlhYmxvX05la3JvbWFudGFfNTAwXzExNTAwIiwiZHJpdmUvTXlEcml2ZS9tZWthdHJvbi9XYXZlZ2xvd19EaWFibG9fTmVrcm9tYW50YV8yMDBfMTI4NDEiLCJkcml2ZS9NeURyaXZlL21la2F0cm9uL21pbHRlbi50dDIiLCJkcml2ZS9NeURyaXZlL21la2F0cm9uL3dhdmVnbG93X21pbHRlbi53ZyIsImRyaXZlL015RHJpdmUvbWVrYXRyb24vV2FyY3JhZnRfVXRoZXJfMjYwMDAiLCJkcml2ZS9NeURyaXZlL21la2F0cm9uL1dhcmNyYWZ0X1ZvbGppbl8zMDAwIiwiZHJpdmUvTXlEcml2ZS9tZWthdHJvbi9GcmFsaWFfNjYwMCJdfQo=",
              "ok": true,
              "headers": [
                [
                  "content-type",
                  "application/json"
                ]
              ],
              "status": 200,
              "status_text": ""
            }
          },
          "base_uri": "https://localhost:8080/",
          "height": 253
        },
        "id": "Y51UhUyH9LcS",
        "outputId": "d6abe60f-5da5-4493-f6c3-805e8fbebc9d"
      },
      "execution_count": 3,
      "outputs": [
        {
          "output_type": "display_data",
          "data": {
            "text/html": [
              "\n",
              "        <head>\n",
              "            <style>\n",
              "                #button {\n",
              "    color: green;\n",
              "}\n",
              "\n",
              "            </style>\n",
              "        </head>\n",
              "        <div id='container'>\n",
              "            <span class='el'> x </span>\n",
              "            <span class='el'> y </span>\n",
              "        </div>\n",
              "        The items:\n",
              "        <br><ol id=\"items\"></ol>\n",
              "        <button id='button'>Click to add</button>\n",
              "        <script>\n",
              "            const x = document.querySelector(\"#items\")\n",
              "const butt = document.querySelector(\"#button\")\n",
              "fetch('http://localhost:5000/test').then(res => res.json()).then(body => x.innerHTML = `<li>${body['text']}</li>`)\n",
              "const getDirs = () => {\n",
              "    fetch('http://localhost:5000/drive_mad')\n",
              "        .then(res => res.json())\n",
              "        .then(body => body['loose'].forEach(el => console.log(el)))\n",
              "};\n",
              "butt.addEventListener('click', getDirs)\n",
              "\n",
              "        </script>\n",
              "        "
            ],
            "text/plain": [
              "<IPython.core.display.HTML object>"
            ]
          },
          "metadata": {}
        },
        {
          "output_type": "stream",
          "name": "stdout",
          "text": [
            " * Serving Flask app \"__main__\" (lazy loading)\n",
            " * Environment: production\n",
            "\u001b[31m   WARNING: This is a development server. Do not use it in a production deployment.\u001b[0m\n",
            "\u001b[2m   Use a production WSGI server instead.\u001b[0m\n",
            " * Debug mode: off\n"
          ]
        },
        {
          "output_type": "stream",
          "name": "stderr",
          "text": [
            " * Running on http://127.0.0.1:5000/ (Press CTRL+C to quit)\n",
            "127.0.0.1 - - [31/Dec/2021 12:22:16] \"\u001b[37mGET /test HTTP/1.1\u001b[0m\" 200 -\n",
            "127.0.0.1 - - [31/Dec/2021 12:22:20] \"\u001b[37mGET /drive_mad HTTP/1.1\u001b[0m\" 200 -\n"
          ]
        }
      ]
    },
    {
      "cell_type": "code",
      "source": [
        "%%sh\n",
        "my_mail = \"szymon.wrzos@onet.pl\" #@param{type:\"string\"}\n",
        "name = \"Herob527\" #@param{type:\"string\"}\n",
        "git init\n",
        "git remote add origin https://github.com/Herob527/html_colab_assets.git\n",
        "git config user.email $my_mail\n",
        "git config user.name $name\n",
        "git add ./html_colab_assets/style.css\n",
        "git add ./html_colab_assets/script.js\n",
        "git status\n",
        "git pull origin main\n",
        "git commit -m \"Updated style and script. Colab\"\n",
        "git push origin main"
      ],
      "metadata": {
        "colab": {
          "base_uri": "https://localhost:8080/"
        },
        "id": "Ma44ZuhQcQVP",
        "outputId": "edac722f-6c1e-41f6-e903-f0730b5a4f8b"
      },
      "execution_count": 36,
      "outputs": [
        {
          "output_type": "stream",
          "name": "stdout",
          "text": [
            "Reinitialized existing Git repository in /content/.git/\n",
            "mail\n",
            "Herob527\n",
            "On branch master\n",
            "Untracked files:\n",
            "  (use \"git add <file>...\" to include in what will be committed)\n",
            "\n",
            "\t.config/\n",
            "\tdrive/\n",
            "\tsample_data/\n",
            "\n",
            "nothing added to commit but untracked files present (use \"git add\" to track)\n",
            "On branch master\n",
            "Untracked files:\n",
            "\t.config/\n",
            "\tdrive/\n",
            "\tsample_data/\n",
            "\n",
            "nothing added to commit but untracked files present\n"
          ]
        },
        {
          "output_type": "stream",
          "name": "stderr",
          "text": [
            "sh: 1: my_mail: not found\n",
            "sh: 2: name: not found\n",
            "fatal: remote origin already exists.\n",
            "From https://github.com/Herob527/html_colab_assets\n",
            " * branch            main       -> FETCH_HEAD\n",
            "fatal: refusing to merge unrelated histories\n",
            "error: src refspec main does not match any.\n",
            "error: failed to push some refs to 'https://github.com/Herob527/html_colab_assets.git'\n"
          ]
        }
      ]
    },
    {
      "cell_type": "code",
      "source": [
        "import portpicker\n",
        "import threading\n",
        "import socket\n",
        "import IPython\n",
        "\n",
        "from six.moves import socketserver\n",
        "from six.moves import SimpleHTTPServer\n",
        "\n",
        "class V6Server(socketserver.TCPServer):\n",
        "  address_family = socket.AF_INET6\n",
        "\n",
        "class Handler(SimpleHTTPServer.SimpleHTTPRequestHandler):\n",
        "  def do_GET(self):\n",
        "    self.send_response(200)\n",
        "    # If the response should not be cached in the notebook for\n",
        "    # offline access:\n",
        "    # self.send_header('x-colab-notebook-cache-control', 'no-cache')\n",
        "    self.end_headers()\n",
        "    self.wfile.write(b'''\n",
        "      document.querySelector('#output-area').appendChild(document.createTextNode('Script result!'));\n",
        "    ''')\n",
        "\n",
        "port = portpicker.pick_unused_port()\n",
        "\n",
        "def server_entry():\n",
        "    httpd = V6Server(('::', port), Handler)\n",
        "    # Handle a single request then exit the thread.\n",
        "    httpd.serve_forever()\n",
        "\n",
        "thread = threading.Thread(target=server_entry)\n",
        "thread.start()\n",
        "\n",
        "# Display some HTML referencing the resource.\n",
        "display(IPython.display.HTML('<script src=\"https://localhost:{port}/\"></script>'.format(port=port)))"
      ],
      "metadata": {
        "id": "b2TR9gtiRFza",
        "outputId": "b3c0f300-5f7d-47b0-f29c-6ec5beedf4e2",
        "colab": {
          "resources": {
            "http://localhost:24229/": {
              "data": "CiAgICAgIGRvY3VtZW50LnF1ZXJ5U2VsZWN0b3IoJyNvdXRwdXQtYXJlYScpLmFwcGVuZENoaWxkKGRvY3VtZW50LmNyZWF0ZVRleHROb2RlKCdTY3JpcHQgcmVzdWx0IScpKTsKICAgIA==",
              "ok": true,
              "headers": [
                [
                  "content-type",
                  "text/plain; charset=utf-8"
                ]
              ],
              "status": 200,
              "status_text": ""
            }
          },
          "base_uri": "https://localhost:8080/",
          "height": 34
        }
      },
      "execution_count": null,
      "outputs": [
        {
          "output_type": "display_data",
          "data": {
            "text/html": [
              "<script src=\"https://localhost:24229/\"></script>"
            ],
            "text/plain": [
              "<IPython.core.display.HTML object>"
            ]
          },
          "metadata": {}
        }
      ]
    }
  ]
}